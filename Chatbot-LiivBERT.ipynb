{
 "cells": [
  {
   "cell_type": "markdown",
   "metadata": {},
   "source": [
    "# 패키지 불러오기"
   ]
  },
  {
   "cell_type": "code",
   "execution_count": null,
   "metadata": {},
   "outputs": [],
   "source": [
    "import sys\n",
    "import sqlite3\n",
    "import time\n",
    "import datetime\n",
    "from pytz import timezone\n",
    "\n",
    "import telegram\n",
    "from telegram import message\n",
    "from telegram.ext import Updater\n",
    "from telegram.ext import MessageHandler, Filters\n",
    "\n",
    "import smtplib\n",
    "from email.message import EmailMessage\n",
    "import getpass"
   ]
  },
  {
   "cell_type": "markdown",
   "metadata": {},
   "source": [
    "# 텔레그램 및 이메일 계정 연동"
   ]
  },
  {
   "cell_type": "code",
   "execution_count": null,
   "metadata": {},
   "outputs": [],
   "source": [
    "password = '********' # 이메일 비밀번호\n",
    "token = '1931133170:AAHJv6liRRrYt4ZgHN***********'\n",
    "id = \"194472****\""
   ]
  },
  {
   "cell_type": "markdown",
   "metadata": {},
   "source": [
    "# 답변 분류 및 생성 모델 로드"
   ]
  },
  {
   "cell_type": "code",
   "execution_count": null,
   "metadata": {},
   "outputs": [],
   "source": [
    "# 고객 리뷰 분류\n",
    "def review_classification(review):\n",
    "    results = review_classifier(review)\n",
    "    id2label = {\"LABEL_0\": \"칭찬\", \"LABEL_1\": \"APP 버그\", \"LABEL_2\": \"정정 요청\", \"LABEL_3\": \"기타\"}\n",
    "    \n",
    "    for idx, result in enumerate(results):\n",
    "        for k, v in result.items():\n",
    "            if k == 'label':\n",
    "                catagory_ = id2label[v]\n",
    "            else:\n",
    "                score_ = v\n",
    "                \n",
    "    return catagory_, score_\n",
    "\n",
    "# 답변 생성\n",
    "def reply_genertation(str_):\n",
    "    tokenized_indexs = tokenizer.encode(str_)\n",
    "    input_ids = torch.tensor([tokenizer.bos_token_id,]  + tokenized_indexs +[tokenizer.eos_token_id]).unsqueeze(0)\n",
    "    sample_output = model.generate(input_ids=input_ids)\n",
    "    ans = tokenizer.decode(sample_output[0].tolist()[len(tokenized_indexs)+1:],skip_special_tokens=True)\n",
    "    ans = re.findall(r'[가-힣| |\\U00010000-\\U0010ffff]+\\?|[가-힣| |\\U00010000-\\U0010ffff]+\\.', ans)\n",
    "    ans = ans[:3]\n",
    "    answer = ''\n",
    "    for i in range(3):\n",
    "        answer += ans[i]\n",
    "        \n",
    "    return answer"
   ]
  },
  {
   "cell_type": "markdown",
   "metadata": {},
   "source": [
    "# 챗봇"
   ]
  },
  {
   "cell_type": "code",
   "execution_count": null,
   "metadata": {},
   "outputs": [],
   "source": [
    "bot = telegram.Bot(token)\n",
    "bot.sendMessage(chat_id=id, text=\"안녕하세요! 고객님 리브버트입니다😊 무엇을 도와드릴까요?\")\n",
    "\n",
    "# updater\n",
    "updater = Updater(token=token, use_context=True)\n",
    "dispatcher = updater.dispatcher\n",
    "updater.start_polling()\n",
    "\n",
    "# 날짜 추출 및 이메일 양식 생성\n",
    "def printDate():\n",
    "    tn= datetime.datetime.now(timezone('Asia/Seoul'))\n",
    "    weekDay = ['월요일', '화요일', '수요일', '목요일', '금요일', '토요일', '일요일']\n",
    "    \n",
    "    return tn.strftime(\"%Y년 %m월 %d일 \") + str(weekDay[tn.weekday()])\n",
    "\n",
    "\n",
    "chating_data = '“Customer” 고객님과 아래와 같은 대화를 진행했습니다.\\n'\n",
    "chating_data += '\\n\\n\\n\"대화 원본\"\\n'\n",
    "date = printDate()\n",
    "chating_data += '-------------------------' + date + '-------------------------\\n'\n",
    "\n",
    "cata_ = ''\n",
    "def handler(update, context):\n",
    "    global chating_data, inp, cata_\n",
    "    user_text = update.message.text\n",
    "    \n",
    "    if str( user_text ) == '없습니다.':\n",
    "        time_now = datetime.datetime.now(timezone('Asia/Seoul'))\n",
    "        time_now_str = str(time_now)[11:19]\n",
    "        cus_chat = '[고객][' + time_now_str + ']' + user_text\n",
    "        chating_data += cus_chat\n",
    "        chating_data += '\\n\\n\\n - KB_리브버트 드림'\n",
    "        \n",
    "        chat_time = datetime.datetime.now(timezone('Asia/Seoul'))\n",
    "        chat_time_str = str(chat_time)[11:19]\n",
    "        \n",
    "        conn = sqlite3.connect(\"test.db\")\n",
    "        cur = conn.cursor()\n",
    "        cur.execute(\"INSERT INTO voc VALUES (?,?)\", [chating_data, chat_time_str])\n",
    "        conn.commit()\n",
    "        \n",
    "        tomail = ''\n",
    "        for row in cur.execute(\"SELECT email FROM employee WHERE team = 'develop'\"):\n",
    "            tomail += row[0] + ', '\n",
    "            \n",
    "        message = EmailMessage()\n",
    "        message['Subject'] = '[고객의견]' +'[' + str(cata_) + ']' + '고객 의견을 전달합니다.' #str(cata_) 있던 곳\n",
    "        message['From'] = 'kbalbert_chatbot@naver.com'\n",
    "        message['To'] = tomail\n",
    "        message.set_content(str(chating_data))\n",
    "\n",
    "        with smtplib.SMTP_SSL('smtp.naver.com', 465) as server:\n",
    "            server.ehlo()\n",
    "            server.login('kbalbert_chatbot', password)\n",
    "            server.send_message(message)\n",
    "        print('이메일 전송이 완료됬습니다.')\n",
    "        sys.exit()\n",
    "    \n",
    "    # 의견 분류\n",
    "    c, s = review_classification(str(user_text))\n",
    "    if len( cata_ ) == 0:\n",
    "        cata_ = c\n",
    "    time_now = datetime.datetime.now(timezone('Asia/Seoul'))\n",
    "    time_now_str = str(time_now)[11:19]\n",
    "    cus_chat = '[고객][' + time_now_str + ']' + user_text\n",
    "    \n",
    "    # 답변 생성\n",
    "    text_ = reply_genertation(str(user_text))\n",
    "    bot.send_message(chat_id=id, text=str(text_))\n",
    "    time_now = datetime.datetime.now(timezone('Asia/Seoul'))\n",
    "    time_now_str = str(time_now)[11:19]\n",
    "    bot_chat = '[챗봇][' + time_now_str + ']' + str(text_)\n",
    "    \n",
    "    # 분류 데이터 DB 저장\n",
    "    idx = len(df)\n",
    "    at = str(time_now)[:19]\n",
    "    content = user_text\n",
    "\n",
    "    if cata_ == '칭찬':\n",
    "        catagory = 0\n",
    "    elif cata_ == 'APP 버그':\n",
    "        catagory = 1\n",
    "    elif cata_ == '정정 요청':\n",
    "        catagory = 2\n",
    "    else:\n",
    "        catagory = 3\n",
    "        \n",
    "    row = [idx, at, content, catagory]\n",
    "    df.loc[len(df)] = row\n",
    "    df.to_csv(\"Review_Label_data.csv\", index=False)\n",
    "    \n",
    "    chating_data += cus_chat + '\\n' + bot_chat + '\\n'\n",
    "echo_handler = MessageHandler(Filters.text, handler)\n",
    "dispatcher.add_handler(echo_handler)"
   ]
  },
  {
   "cell_type": "code",
   "execution_count": null,
   "metadata": {},
   "outputs": [],
   "source": []
  },
  {
   "cell_type": "code",
   "execution_count": null,
   "metadata": {},
   "outputs": [],
   "source": []
  }
 ],
 "metadata": {
  "kernelspec": {
   "display_name": "Python 3",
   "language": "python",
   "name": "python3"
  },
  "language_info": {
   "codemirror_mode": {
    "name": "ipython",
    "version": 3
   },
   "file_extension": ".py",
   "mimetype": "text/x-python",
   "name": "python",
   "nbconvert_exporter": "python",
   "pygments_lexer": "ipython3",
   "version": "3.8.5"
  }
 },
 "nbformat": 4,
 "nbformat_minor": 4
}
