{
 "cells": [
  {
   "cell_type": "markdown",
   "metadata": {},
   "source": [
    "# 패키지 불러오기"
   ]
  },
  {
   "cell_type": "code",
   "execution_count": null,
   "metadata": {},
   "outputs": [],
   "source": [
    "import os\n",
    "import numpy as np\n",
    "from tqdm import tqdm\n",
    "\n",
    "import torch\n",
    "import torch.nn as nn\n",
    "from torch.utils.data import Dataset\n",
    "from kogpt2_transformers import get_kogpt2_tokenizer"
   ]
  },
  {
   "cell_type": "markdown",
   "metadata": {},
   "source": [
    "# 데이터 로더"
   ]
  },
  {
   "cell_type": "code",
   "execution_count": null,
   "metadata": {},
   "outputs": [],
   "source": [
    "class ReviewAutoRegressiveDataset(Dataset):\n",
    "    \n",
    "    def __init__(self,\n",
    "               file_path = \"QAdataset_0820.txt\",\n",
    "               n_ctx = 512\n",
    "               ):\n",
    "        self.file_path = file_path\n",
    "        self.data =[]\n",
    "        self.tokenizer = get_kogpt2_tokenizer()\n",
    "        \n",
    "        bos_token_id = [self.tokenizer.bos_token_id]\n",
    "        eos_token_id = [self.tokenizer.eos_token_id]\n",
    "        pad_token_id = [self.tokenizer.pad_token_id]\n",
    "        \n",
    "        file = open(self.file_path, 'r', encoding='utf-8')\n",
    "        \n",
    "        while True:\n",
    "            line = file.readline()\n",
    "            if not line:\n",
    "                break\n",
    "            datas = line.split(\"    \")\n",
    "            if len(datas) > 2:\n",
    "                new_list, tmp = ['', ''], ''\n",
    "                for i in range(1, len(datas)):\n",
    "                    tmp += datas[i]\n",
    "                new_list[0], new_list[1] = datas[0], tmp\n",
    "                datas = new_list\n",
    "\n",
    "            try:     \n",
    "                index_of_words = bos_token_id +self.tokenizer.encode(datas[0]) + eos_token_id + bos_token_id + self.tokenizer.encode(datas[1][:-1])+ eos_token_id\n",
    "                pad_token_len = n_ctx - len(index_of_words)\n",
    "\n",
    "                index_of_words += pad_token_id * pad_token_len\n",
    "\n",
    "                self.data.append(index_of_words)\n",
    "            except IndexError:\n",
    "                continue\n",
    "\n",
    "        file.close()\n",
    "    \n",
    "    def __len__(self):\n",
    "        return len(self.data)\n",
    "    \n",
    "    def __getitem__(self,index):\n",
    "        item = self.data[index]\n",
    "        return item\n",
    "\n",
    "if __name__ == \"__main__\":\n",
    "  dataset = ReviewAutoRegressiveDataset()"
   ]
  },
  {
   "cell_type": "markdown",
   "metadata": {},
   "source": [
    "# KoGPT-2 로드"
   ]
  },
  {
   "cell_type": "code",
   "execution_count": null,
   "metadata": {},
   "outputs": [],
   "source": [
    "class DialogKoGPT2(nn.Module):\n",
    "    def __init__(self):\n",
    "        super(DialogKoGPT2, self).__init__()\n",
    "        self.kogpt2 = get_kogpt2_model()\n",
    "\n",
    "    def generate(self,\n",
    "               input_ids,\n",
    "               do_sample=True,\n",
    "               max_length= 60,\n",
    "               top_p=0.92,\n",
    "               top_k=50,\n",
    "               temperature= 0.6,\n",
    "               no_repeat_ngram_size =None,\n",
    "               num_return_sequences=3,\n",
    "               early_stopping=False,\n",
    "               ):\n",
    "        return self.kogpt2.generate(input_ids,\n",
    "                   do_sample=do_sample,\n",
    "                   max_length=max_length,\n",
    "                   top_p = top_p,\n",
    "                   top_k=top_k,\n",
    "                   temperature=temperature,\n",
    "                   no_repeat_ngram_size= no_repeat_ngram_size,\n",
    "                   num_return_sequences=num_return_sequences,\n",
    "                   early_stopping = early_stopping,\n",
    "                  )\n",
    "    \n",
    "    def forward(self, input, labels = None):\n",
    "        if labels is not None:\n",
    "            outputs = self.kogpt2(input, labels=labels)\n",
    "        else:\n",
    "            outputs = self.kogpt2(input)\n",
    "        \n",
    "        return outputs"
   ]
  },
  {
   "cell_type": "markdown",
   "metadata": {},
   "source": [
    "# 데이터 학습"
   ]
  },
  {
   "cell_type": "code",
   "execution_count": null,
   "metadata": {},
   "outputs": [],
   "source": [
    "root_path=''\n",
    "data_path = f\"{root_path}QAdataset_0820.txt\"\n",
    "save_ckpt_path = \"./0820_kogpt2-review-auto-regressive_v1.pth\"\n",
    "\n",
    "n_epoch = 5  \n",
    "batch_size = 1 \n",
    "ctx = \"cuda\" if torch.cuda.is_available() else \"cpu\"\n",
    "device = torch.device(ctx)\n",
    "save_step = 100 \n",
    "learning_rate = 5e-5\n",
    "\n",
    "dataset= ReviewAutoRegressiveDataset(data_path)\n",
    "train_loader = torch.utils.data.DataLoader(dataset, batch_size=batch_size, shuffle=True)\n",
    "\n",
    "model = DialogKoGPT2()\n",
    "model.to(device)\n",
    "\n",
    "loss_fct = torch.nn.CrossEntropyLoss(ignore_index=3)\n",
    "optimizer = torch.optim.Adam(model.parameters(), lr=learning_rate)\n",
    "\n",
    "losses =[]\n",
    "for epoch in range(n_epoch):\n",
    "    count = 0\n",
    "    with tqdm(total=len(train_loader), desc=f\"Train({epoch})\") as pbar:\n",
    "        for i, data in enumerate(train_loader):\n",
    "            optimizer.zero_grad()\n",
    "            data = torch.stack(data) \n",
    "            data = data.transpose(1, 0)\n",
    "            data= data.to(ctx)\n",
    "\n",
    "            outputs = model(data, labels=data)\n",
    "            _, logits = outputs[:2]\n",
    "\n",
    "            shift_logits = logits[..., :-1, :].contiguous()\n",
    "            shift_labels = data[..., 1:].contiguous()\n",
    "\n",
    "            loss = loss_fct(shift_logits.view(-1, shift_logits.size(-1)), shift_labels.view(-1))\n",
    "            loss.backward()\n",
    "            optimizer.step()\n",
    "\n",
    "            losses.append(loss.item())\n",
    "\n",
    "            if (count > 0 and count % save_step == 0) or (len(data) < batch_size):\n",
    "                torch.save({\n",
    "                    'epoch': epoch,\n",
    "                    'train_no': count,\n",
    "                    'model_state_dict': model.state_dict(),\n",
    "                    'optimizer_state_dict': optimizer.state_dict(),\n",
    "                    'loss': loss\n",
    "                }, save_ckpt_path)\n",
    "            count += 1\n",
    "            pbar.update(1)\n",
    "            pbar.set_postfix_str(f\"Loss: {loss.item():.3f} ({np.mean(losses):.3f})\")"
   ]
  }
 ],
 "metadata": {
  "kernelspec": {
   "display_name": "Python 3",
   "language": "python",
   "name": "python3"
  },
  "language_info": {
   "codemirror_mode": {
    "name": "ipython",
    "version": 3
   },
   "file_extension": ".py",
   "mimetype": "text/x-python",
   "name": "python",
   "nbconvert_exporter": "python",
   "pygments_lexer": "ipython3",
   "version": "3.8.5"
  }
 },
 "nbformat": 4,
 "nbformat_minor": 4
}
