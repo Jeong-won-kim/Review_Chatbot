{
 "cells": [
  {
   "cell_type": "markdown",
   "id": "3c259ff9",
   "metadata": {},
   "source": [
    "# 패키지 불러오기(sqlite3)"
   ]
  },
  {
   "cell_type": "code",
   "execution_count": 5,
   "id": "f1ee17f5",
   "metadata": {},
   "outputs": [],
   "source": [
    "import sqlite3"
   ]
  },
  {
   "cell_type": "markdown",
   "id": "d81cd19e",
   "metadata": {},
   "source": [
    "# DB 생성"
   ]
  },
  {
   "cell_type": "code",
   "execution_count": 6,
   "id": "b432ff25",
   "metadata": {},
   "outputs": [],
   "source": [
    "conn = sqlite3.connect(\"test.db\")\n",
    "cur = conn.cursor()\n",
    "\n",
    "#voc table 생성 : 고객 대화 로그\n",
    "try:\n",
    "    cur.execute(\"create table voc (convers text, time text)\")\n",
    "except:\n",
    "    pass\n",
    "\n",
    "#employee table 생성 : 메일 리스트화\n",
    "try:\n",
    "    cur.execute(\"create table employee \\\n",
    "    (name text, team text, email text, phone text)\")\n",
    "except:\n",
    "    pass"
   ]
  },
  {
   "cell_type": "markdown",
   "id": "3ee1e099",
   "metadata": {},
   "source": [
    "# DB - employee table 삽입(!한 번만 실행!)"
   ]
  },
  {
   "cell_type": "code",
   "execution_count": 7,
   "id": "6b0ad4e0",
   "metadata": {},
   "outputs": [],
   "source": [
    "#사원 정보 추가 : 'develop' 부서 2, 'hr' 부서 1\n",
    "cur.execute(\"INSERT INTO employee VALUES ('gh park', 'develop', \\\n",
    "            'kbalbert_chatbot@naver.com', '010-0000-0000')\")\n",
    "cur.execute(\"INSERT INTO employee VALUES ('jw kim', 'develop', \\\n",
    "            'kihun0bu@naver.com', '010-1234-0000')\")\n",
    "cur.execute(\"INSERT INTO employee VALUES ('doyueong joo', 'hr', \\\n",
    "            'kihun0bu@gmail.com', '010-1234-4321')\")\n",
    "conn.commit() #저장하기"
   ]
  },
  {
   "cell_type": "code",
   "execution_count": null,
   "id": "8785201f",
   "metadata": {},
   "outputs": [],
   "source": [
    "#employee 테이블을 지우는 명령\n",
    "# conn = sqlite3.connect(\"test.db\")\n",
    "# cur = conn.cursor()\n",
    "# cur.execute(\"delete from employee\")\n",
    "# conn.commit()"
   ]
  },
  {
   "cell_type": "markdown",
   "id": "bfa26416",
   "metadata": {},
   "source": [
    "# DB활용 - VOC 저장하기"
   ]
  },
  {
   "cell_type": "code",
   "execution_count": null,
   "id": "4848cbd9",
   "metadata": {},
   "outputs": [],
   "source": [
    "#고객과 챗봇이 나눈 '대화' 및 '시간'을 DB에 저장\n",
    "chat_time = datetime.datetime.now(timezone('Asia/Seoul'))\n",
    "chat_time_str = str(chat_time)[:19]\n",
    "cur.execute(\"INSERT INTO voc VALUES (?,?)\", [chating_data, chat_time_str])\n",
    "conn.commit()"
   ]
  },
  {
   "cell_type": "markdown",
   "id": "2b858ccf",
   "metadata": {},
   "source": [
    "# DB활용 - 'develop' 부서 메일 주소 불러오기"
   ]
  },
  {
   "cell_type": "code",
   "execution_count": null,
   "id": "ecc28b79",
   "metadata": {},
   "outputs": [],
   "source": [
    "tomail = ''\n",
    "for row in cur.execute(\"SELECT email FROM employee WHERE team = 'develop'\"):\n",
    "    tomail += row[0] + ', '\n",
    "    \n",
    "message['To'] = tomail # 다수 가능"
   ]
  }
 ],
 "metadata": {
  "kernelspec": {
   "display_name": "Python 3",
   "language": "python",
   "name": "python3"
  },
  "language_info": {
   "codemirror_mode": {
    "name": "ipython",
    "version": 3
   },
   "file_extension": ".py",
   "mimetype": "text/x-python",
   "name": "python",
   "nbconvert_exporter": "python",
   "pygments_lexer": "ipython3",
   "version": "3.8.8"
  }
 },
 "nbformat": 4,
 "nbformat_minor": 5
}
