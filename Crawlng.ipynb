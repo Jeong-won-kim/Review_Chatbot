{
 "cells": [
  {
   "cell_type": "markdown",
   "id": "5879a4d5",
   "metadata": {},
   "source": [
    "# 웹 크롤링(네이버 블로그 댓글)"
   ]
  },
  {
   "cell_type": "code",
   "execution_count": null,
   "id": "8591716b",
   "metadata": {},
   "outputs": [],
   "source": [
    "from selenium import webdriver\n",
    "import time\n",
    "import pandas as pd"
   ]
  },
  {
   "cell_type": "code",
   "execution_count": null,
   "id": "3c8e344b",
   "metadata": {},
   "outputs": [],
   "source": [
    "#목표 url 설정\n",
    "url = 'https://m.post.naver.com/viewer/commentsView.naver?volumeNo=30569539&memberNo=45336244'\n",
    "driver = webdriver.Chrome(); \n",
    "driver.get(url)"
   ]
  },
  {
   "cell_type": "code",
   "execution_count": null,
   "id": "9b5d9420",
   "metadata": {},
   "outputs": [],
   "source": [
    "#댓글 출력\n",
    "results = [] #댓글 변수\n",
    "for page in range(1, 11):\n",
    "    #다음 페이지로 넘어가기\n",
    "    if page%10 == 1 and page > 10:\n",
    "        try:\n",
    "            driver.find_element_by_partial_link_text('다음').click()  \n",
    "            time.sleep(1)   \n",
    "        except: continue\n",
    "    driver.find_elements_by_class_name('u_cbox_num_page')[page%10 - 1].click()\n",
    "    time.sleep(2)\n",
    "\n",
    "    #계정, 댓글, 날짜, 좋아요, 싫어요\n",
    "    ids = driver.find_elements_by_class_name('u_cbox_nick')\n",
    "    comments = driver.find_elements_by_css_selector('span.u_cbox_contents')\n",
    "    dates = driver.find_elements_by_class_name('u_cbox_date')\n",
    "    likes = driver.find_elements_by_class_name('u_cbox_cnt_recomm')\n",
    "\n",
    "    #댓글 담기\n",
    "    for i in range(len(comments)):\n",
    "        sample = [ids[i].text, comments[i].text, dates[i].text, likes[i].text]\n",
    "        results.append(sample)\n",
    "\n",
    "\n",
    "#csv 파일 출력\n",
    "data = pd.DataFrame(results)\n",
    "data.columns = ['ids', 'comments', 'dates', 'likes']\n",
    "data.to_csv('reply_nBlog.csv')"
   ]
  },
  {
   "cell_type": "markdown",
   "id": "1402c7cf",
   "metadata": {},
   "source": [
    "# 웹 크롤링(플레이 스토어 리뷰)"
   ]
  },
  {
   "cell_type": "code",
   "execution_count": null,
   "id": "41629849",
   "metadata": {},
   "outputs": [],
   "source": [
    "from google_play_scraper import Sort, reviews_all\n",
    "import pandas as pd"
   ]
  },
  {
   "cell_type": "code",
   "execution_count": null,
   "id": "96b5c6fb",
   "metadata": {},
   "outputs": [],
   "source": [
    "result = reviews_all(\n",
    "    'kr.co.koreachart.city', \n",
    "    sleep_milliseconds=0, \n",
    "    lang='ko', \n",
    "    country='kr', \n",
    "    sort=Sort.MOST_RELEVANT, \n",
    ")\n",
    "\n",
    "res_df = pd.DataFrame(result) \n",
    "res_df.to_csv('review_playstore.csv', index=False, encoding='utf-8-sig')"
   ]
  }
 ],
 "metadata": {
  "kernelspec": {
   "display_name": "Python 3",
   "language": "python",
   "name": "python3"
  },
  "language_info": {
   "codemirror_mode": {
    "name": "ipython",
    "version": 3
   },
   "file_extension": ".py",
   "mimetype": "text/x-python",
   "name": "python",
   "nbconvert_exporter": "python",
   "pygments_lexer": "ipython3",
   "version": "3.8.8"
  }
 },
 "nbformat": 4,
 "nbformat_minor": 5
}
